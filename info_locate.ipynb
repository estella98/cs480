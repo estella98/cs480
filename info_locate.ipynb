{
 "cells": [
  {
   "cell_type": "code",
   "execution_count": 1,
   "metadata": {},
   "outputs": [],
   "source": [
    "import numpy as np"
   ]
  },
  {
   "cell_type": "code",
   "execution_count": 3,
   "metadata": {},
   "outputs": [
    {
     "data": {
      "text/plain": [
       "array([[ 1,  3,  6],\n",
       "       [ 5, 12, 21],\n",
       "       [12, 27, 45]])"
      ]
     },
     "execution_count": 3,
     "metadata": {},
     "output_type": "execute_result"
    }
   ],
   "source": [
    "a = np.array([[1,2,3],[4,5,6],[7,8,9]])\n",
    "a_sum = np.cumsum(np.cumsum(a, axis=1), axis=0)"
   ]
  },
  {
   "cell_type": "code",
   "execution_count": 7,
   "metadata": {},
   "outputs": [],
   "source": [
    "def find_maximum_sum_matrix(a, w, l):\n",
    "    a_sum = np.cumsum(np.cumsum(a, axis=1), axis=0)\n",
    "    width = a_sum.shape[0]\n",
    "    length = a_sum.shape[1]\n",
    "    maxsum = 0\n",
    "    bottom_right_x = bottom_right_y =  -1\n",
    "    for i in range(width):\n",
    "        for j in range(length):\n",
    "            if (j - l)>=0 and (i - w)>=0:\n",
    "                curr_sum = a_sum[i][j] -a_sum[i][j-l]-a_sum[i-w][j]+a_sum[i-w][j-l]\n",
    "                if curr_sum > maxsum:\n",
    "                    maxsum = curr_sum\n",
    "                    bottom_right_x = j\n",
    "                    bottom_right_y = i\n",
    "    return bottom_right_x, bottom_right_y\n",
    "\n",
    "  \n",
    "    "
   ]
  },
  {
   "cell_type": "code",
   "execution_count": 13,
   "metadata": {},
   "outputs": [],
   "source": [
    "#test\n",
    "a = np.array([[3,-4,6,-5,1],[1,-2,8,-4,-2],[3,-8,9,3,1],[-7,3,4,2,7],[-3,7,-5,7,-6]])\n",
    "x,y = find_maximum_sum_matrix(a, 3, 2)"
   ]
  },
  {
   "cell_type": "code",
   "execution_count": 14,
   "metadata": {},
   "outputs": [
    {
     "name": "stdout",
     "output_type": "stream",
     "text": [
      "3 3\n"
     ]
    }
   ],
   "source": [
    "print(x,y)"
   ]
  },
  {
   "cell_type": "code",
   "execution_count": null,
   "metadata": {},
   "outputs": [],
   "source": []
  }
 ],
 "metadata": {
  "kernelspec": {
   "display_name": "Python 3",
   "language": "python",
   "name": "python3"
  },
  "language_info": {
   "codemirror_mode": {
    "name": "ipython",
    "version": 3
   },
   "file_extension": ".py",
   "mimetype": "text/x-python",
   "name": "python",
   "nbconvert_exporter": "python",
   "pygments_lexer": "ipython3",
   "version": "3.6.4"
  }
 },
 "nbformat": 4,
 "nbformat_minor": 2
}
